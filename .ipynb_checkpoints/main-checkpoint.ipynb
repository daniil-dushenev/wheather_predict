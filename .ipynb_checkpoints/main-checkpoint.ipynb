{
 "cells": [
  {
   "cell_type": "code",
   "execution_count": 30,
   "id": "00e8a668-b956-4d07-af97-bf48bde24007",
   "metadata": {},
   "outputs": [],
   "source": [
    "import warnings\n",
    "warnings.filterwarnings(\"ignore\")\n",
    "\n",
    "import numpy as np\n",
    "import pandas as pd\n",
    "from sklearn.metrics import mean_squared_error, accuracy_score\n",
    "from sklearn.model_selection import (GridSearchCV, cross_val_score,\n",
    "                                     train_test_split, RandomizedSearchCV)\n",
    "from sklearn.preprocessing import StandardScaler\n",
    "from xgboost import XGBClassifier"
   ]
  },
  {
   "cell_type": "code",
   "execution_count": 41,
   "id": "d1f0d54c-0fcc-43f0-af20-8ff3fdce671a",
   "metadata": {},
   "outputs": [
    {
     "data": {
      "text/html": [
       "<div>\n",
       "<style scoped>\n",
       "    .dataframe tbody tr th:only-of-type {\n",
       "        vertical-align: middle;\n",
       "    }\n",
       "\n",
       "    .dataframe tbody tr th {\n",
       "        vertical-align: top;\n",
       "    }\n",
       "\n",
       "    .dataframe thead th {\n",
       "        text-align: right;\n",
       "    }\n",
       "</style>\n",
       "<table border=\"1\" class=\"dataframe\">\n",
       "  <thead>\n",
       "    <tr style=\"text-align: right;\">\n",
       "      <th></th>\n",
       "      <th>T</th>\n",
       "      <th>Po</th>\n",
       "      <th>P</th>\n",
       "      <th>Pa</th>\n",
       "      <th>U</th>\n",
       "      <th>DD</th>\n",
       "      <th>Ff</th>\n",
       "      <th>ff10</th>\n",
       "      <th>ff3</th>\n",
       "      <th>N</th>\n",
       "      <th>...</th>\n",
       "      <th>Cm</th>\n",
       "      <th>Ch</th>\n",
       "      <th>VV</th>\n",
       "      <th>Td</th>\n",
       "      <th>RRR</th>\n",
       "      <th>tR</th>\n",
       "      <th>E</th>\n",
       "      <th>Tg</th>\n",
       "      <th>E'</th>\n",
       "      <th>sss</th>\n",
       "    </tr>\n",
       "    <tr>\n",
       "      <th>Местное время в Ростове-на-Дону</th>\n",
       "      <th></th>\n",
       "      <th></th>\n",
       "      <th></th>\n",
       "      <th></th>\n",
       "      <th></th>\n",
       "      <th></th>\n",
       "      <th></th>\n",
       "      <th></th>\n",
       "      <th></th>\n",
       "      <th></th>\n",
       "      <th></th>\n",
       "      <th></th>\n",
       "      <th></th>\n",
       "      <th></th>\n",
       "      <th></th>\n",
       "      <th></th>\n",
       "      <th></th>\n",
       "      <th></th>\n",
       "      <th></th>\n",
       "      <th></th>\n",
       "      <th></th>\n",
       "    </tr>\n",
       "  </thead>\n",
       "  <tbody>\n",
       "    <tr>\n",
       "      <th>01.08.2023 21:00</th>\n",
       "      <td>26.7</td>\n",
       "      <td>749.0</td>\n",
       "      <td>NaN</td>\n",
       "      <td>NaN</td>\n",
       "      <td>43.0</td>\n",
       "      <td>NaN</td>\n",
       "      <td>NaN</td>\n",
       "      <td>NaN</td>\n",
       "      <td>NaN</td>\n",
       "      <td>60%.</td>\n",
       "      <td>...</td>\n",
       "      <td>NaN</td>\n",
       "      <td>NaN</td>\n",
       "      <td>NaN</td>\n",
       "      <td>NaN</td>\n",
       "      <td>NaN</td>\n",
       "      <td>NaN</td>\n",
       "      <td>NaN</td>\n",
       "      <td>NaN</td>\n",
       "      <td>NaN</td>\n",
       "      <td>NaN</td>\n",
       "    </tr>\n",
       "    <tr>\n",
       "      <th>01.08.2023 18:00</th>\n",
       "      <td>31.2</td>\n",
       "      <td>748.0</td>\n",
       "      <td>NaN</td>\n",
       "      <td>NaN</td>\n",
       "      <td>34.0</td>\n",
       "      <td>NaN</td>\n",
       "      <td>NaN</td>\n",
       "      <td>NaN</td>\n",
       "      <td>NaN</td>\n",
       "      <td>90  или более, но не 100%</td>\n",
       "      <td>...</td>\n",
       "      <td>NaN</td>\n",
       "      <td>NaN</td>\n",
       "      <td>NaN</td>\n",
       "      <td>NaN</td>\n",
       "      <td>Осадков нет</td>\n",
       "      <td>12.0</td>\n",
       "      <td>NaN</td>\n",
       "      <td>NaN</td>\n",
       "      <td>NaN</td>\n",
       "      <td>NaN</td>\n",
       "    </tr>\n",
       "    <tr>\n",
       "      <th>01.08.2023 15:00</th>\n",
       "      <td>33.8</td>\n",
       "      <td>749.0</td>\n",
       "      <td>NaN</td>\n",
       "      <td>NaN</td>\n",
       "      <td>24.0</td>\n",
       "      <td>NaN</td>\n",
       "      <td>NaN</td>\n",
       "      <td>NaN</td>\n",
       "      <td>NaN</td>\n",
       "      <td>70 – 80%.</td>\n",
       "      <td>...</td>\n",
       "      <td>NaN</td>\n",
       "      <td>NaN</td>\n",
       "      <td>NaN</td>\n",
       "      <td>NaN</td>\n",
       "      <td>NaN</td>\n",
       "      <td>NaN</td>\n",
       "      <td>NaN</td>\n",
       "      <td>NaN</td>\n",
       "      <td>NaN</td>\n",
       "      <td>NaN</td>\n",
       "    </tr>\n",
       "    <tr>\n",
       "      <th>01.08.2023 12:00</th>\n",
       "      <td>32.1</td>\n",
       "      <td>750.0</td>\n",
       "      <td>NaN</td>\n",
       "      <td>NaN</td>\n",
       "      <td>34.0</td>\n",
       "      <td>NaN</td>\n",
       "      <td>NaN</td>\n",
       "      <td>NaN</td>\n",
       "      <td>NaN</td>\n",
       "      <td>20–30%.</td>\n",
       "      <td>...</td>\n",
       "      <td>NaN</td>\n",
       "      <td>NaN</td>\n",
       "      <td>NaN</td>\n",
       "      <td>NaN</td>\n",
       "      <td>NaN</td>\n",
       "      <td>NaN</td>\n",
       "      <td>NaN</td>\n",
       "      <td>NaN</td>\n",
       "      <td>NaN</td>\n",
       "      <td>NaN</td>\n",
       "    </tr>\n",
       "    <tr>\n",
       "      <th>01.08.2023 09:00</th>\n",
       "      <td>27.4</td>\n",
       "      <td>750.0</td>\n",
       "      <td>NaN</td>\n",
       "      <td>NaN</td>\n",
       "      <td>43.0</td>\n",
       "      <td>NaN</td>\n",
       "      <td>NaN</td>\n",
       "      <td>NaN</td>\n",
       "      <td>NaN</td>\n",
       "      <td>40%.</td>\n",
       "      <td>...</td>\n",
       "      <td>NaN</td>\n",
       "      <td>NaN</td>\n",
       "      <td>NaN</td>\n",
       "      <td>NaN</td>\n",
       "      <td>NaN</td>\n",
       "      <td>NaN</td>\n",
       "      <td>NaN</td>\n",
       "      <td>NaN</td>\n",
       "      <td>NaN</td>\n",
       "      <td>NaN</td>\n",
       "    </tr>\n",
       "  </tbody>\n",
       "</table>\n",
       "<p>5 rows × 28 columns</p>\n",
       "</div>"
      ],
      "text/plain": [
       "                                    T     Po   P  Pa     U   DD  Ff  ff10  \\\n",
       "Местное время в Ростове-на-Дону                                             \n",
       "01.08.2023 21:00                 26.7  749.0 NaN NaN  43.0  NaN NaN   NaN   \n",
       "01.08.2023 18:00                 31.2  748.0 NaN NaN  34.0  NaN NaN   NaN   \n",
       "01.08.2023 15:00                 33.8  749.0 NaN NaN  24.0  NaN NaN   NaN   \n",
       "01.08.2023 12:00                 32.1  750.0 NaN NaN  34.0  NaN NaN   NaN   \n",
       "01.08.2023 09:00                 27.4  750.0 NaN NaN  43.0  NaN NaN   NaN   \n",
       "\n",
       "                                 ff3                          N  ...   Cm  \\\n",
       "Местное время в Ростове-на-Дону                                  ...        \n",
       "01.08.2023 21:00                 NaN                       60%.  ...  NaN   \n",
       "01.08.2023 18:00                 NaN  90  или более, но не 100%  ...  NaN   \n",
       "01.08.2023 15:00                 NaN                  70 – 80%.  ...  NaN   \n",
       "01.08.2023 12:00                 NaN                    20–30%.  ...  NaN   \n",
       "01.08.2023 09:00                 NaN                       40%.  ...  NaN   \n",
       "\n",
       "                                  Ch   VV  Td          RRR    tR    E  Tg  \\\n",
       "Местное время в Ростове-на-Дону                                             \n",
       "01.08.2023 21:00                 NaN  NaN NaN          NaN   NaN  NaN NaN   \n",
       "01.08.2023 18:00                 NaN  NaN NaN  Осадков нет  12.0  NaN NaN   \n",
       "01.08.2023 15:00                 NaN  NaN NaN          NaN   NaN  NaN NaN   \n",
       "01.08.2023 12:00                 NaN  NaN NaN          NaN   NaN  NaN NaN   \n",
       "01.08.2023 09:00                 NaN  NaN NaN          NaN   NaN  NaN NaN   \n",
       "\n",
       "                                  E'  sss  \n",
       "Местное время в Ростове-на-Дону            \n",
       "01.08.2023 21:00                 NaN  NaN  \n",
       "01.08.2023 18:00                 NaN  NaN  \n",
       "01.08.2023 15:00                 NaN  NaN  \n",
       "01.08.2023 12:00                 NaN  NaN  \n",
       "01.08.2023 09:00                 NaN  NaN  \n",
       "\n",
       "[5 rows x 28 columns]"
      ]
     },
     "execution_count": 41,
     "metadata": {},
     "output_type": "execute_result"
    }
   ],
   "source": [
    "data = pd.read_csv('data.csv', index_col='Местное время в Ростове-на-Дону')\n",
    "data.head()"
   ]
  },
  {
   "cell_type": "code",
   "execution_count": 32,
   "id": "65ca1f37-cd54-4af6-9281-5f7f9dfe7b83",
   "metadata": {},
   "outputs": [
    {
     "data": {
      "text/plain": [
       "Index(['01.08.2023 21:00:00', '01.08.2023 18:00:00', '01.08.2023 15:00:00',\n",
       "       '01.08.2023 12:00:00', '01.08.2023 09:00:00', '01.08.2023 06:00:00',\n",
       "       '01.08.2023 03:00:00', '01.08.2023 00:00:00', '31.07.2023 21:00:00',\n",
       "       '31.07.2023 18:00:00',\n",
       "       ...\n",
       "       '02.01.2010 03:00:00', '02.01.2010 00:00:00', '01.01.2010 21:00:00',\n",
       "       '01.01.2010 18:00:00', '01.01.2010 15:00:00', '01.01.2010 12:00:00',\n",
       "       '01.01.2010 09:00:00', '01.01.2010 06:00:00', '01.01.2010 03:00:00',\n",
       "       '01.01.2010 00:00:00'],\n",
       "      dtype='object', name='Местное время в Ростове-на-Дону', length=38796)"
      ]
     },
     "execution_count": 32,
     "metadata": {},
     "output_type": "execute_result"
    }
   ],
   "source": [
    "data.index += ':00'\n",
    "data.index"
   ]
  },
  {
   "cell_type": "code",
   "execution_count": 33,
   "id": "2d0f5764-f92d-4e56-8ac9-633c9584a8f8",
   "metadata": {},
   "outputs": [
    {
     "data": {
      "text/plain": [
       "DatetimeIndex(['2023-01-08 21:00:00', '2023-01-08 18:00:00',\n",
       "               '2023-01-08 15:00:00', '2023-01-08 12:00:00',\n",
       "               '2023-01-08 09:00:00', '2023-01-08 06:00:00',\n",
       "               '2023-01-08 03:00:00', '2023-01-08 00:00:00',\n",
       "               '2023-07-31 21:00:00', '2023-07-31 18:00:00',\n",
       "               ...\n",
       "               '2010-02-01 03:00:00', '2010-02-01 00:00:00',\n",
       "               '2010-01-01 21:00:00', '2010-01-01 18:00:00',\n",
       "               '2010-01-01 15:00:00', '2010-01-01 12:00:00',\n",
       "               '2010-01-01 09:00:00', '2010-01-01 06:00:00',\n",
       "               '2010-01-01 03:00:00', '2010-01-01 00:00:00'],\n",
       "              dtype='datetime64[ns]', name='Местное время в Ростове-на-Дону', length=38796, freq=None)"
      ]
     },
     "execution_count": 33,
     "metadata": {},
     "output_type": "execute_result"
    }
   ],
   "source": [
    "data.index = pd.to_datetime(data.index, format='mixed')\n",
    "data.index"
   ]
  },
  {
   "cell_type": "code",
   "execution_count": 39,
   "id": "3a363b5d-1a8b-4868-96fe-40f25f206f46",
   "metadata": {},
   "outputs": [
    {
     "data": {
      "text/plain": [
       "36720"
      ]
     },
     "execution_count": 39,
     "metadata": {},
     "output_type": "execute_result"
    }
   ],
   "source": []
  },
  {
   "cell_type": "code",
   "execution_count": 9,
   "id": "d8cf5b6c-b083-474e-8223-b5ae64ef15c3",
   "metadata": {},
   "outputs": [
    {
     "data": {
      "text/plain": [
       "array(['60%.', '90  или более, но не 100%', '70 – 80%.', '20–30%.',\n",
       "       '40%.', 'Облаков нет.', '10%  или менее, но не 0', '50%.', '100%.',\n",
       "       nan,\n",
       "       'Небо не видно из-за тумана и/или других метеорологических явлений.'],\n",
       "      dtype=object)"
      ]
     },
     "execution_count": 9,
     "metadata": {},
     "output_type": "execute_result"
    }
   ],
   "source": [
    "data['N'].unique()"
   ]
  },
  {
   "cell_type": "code",
   "execution_count": 42,
   "id": "a6168a46-bb82-4789-a207-aee319273c52",
   "metadata": {},
   "outputs": [
    {
     "data": {
      "text/plain": [
       "<Axes: xlabel='Местное время в Ростове-на-Дону'>"
      ]
     },
     "execution_count": 42,
     "metadata": {},
     "output_type": "execute_result"
    },
    {
     "data": {
      "image/png": "[encoded data removed]",
      "text/plain": [
       "<Figure size 640x480 with 1 Axes>"
      ]
     },
     "metadata": {},
     "output_type": "display_data"
    }
   ],
   "source": [
    "data.iloc[:10000]['T'].plot()"
   ]
  },
  {
   "cell_type": "code",
   "execution_count": null,
   "id": "dce5d7ea-3eec-466f-b479-6a56354dbd2d",
   "metadata": {},
   "outputs": [],
   "source": []
  }
 ],
 "metadata": {
  "kernelspec": {
   "display_name": "Python 3 (ipykernel)",
   "language": "python",
   "name": "python3"
  },
  "language_info": {
   "codemirror_mode": {
    "name": "ipython",
    "version": 3
   },
   "file_extension": ".py",
   "mimetype": "text/x-python",
   "name": "python",
   "nbconvert_exporter": "python",
   "pygments_lexer": "ipython3",
   "version": "3.10.6"
  }
 },
 "nbformat": 4,
 "nbformat_minor": 5
}
